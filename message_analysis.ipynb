{
 "cells": [
  {
   "cell_type": "markdown",
   "metadata": {},
   "source": [
    "# Happy Birthday!"
   ]
  },
  {
   "cell_type": "code",
   "execution_count": 1,
   "metadata": {},
   "outputs": [],
   "source": [
    "import pandas as pd\n",
    "import numpy as np"
   ]
  },
  {
   "cell_type": "code",
   "execution_count": 2,
   "metadata": {},
   "outputs": [
    {
     "name": "stdout",
     "output_type": "stream",
     "text": [
      "('_SqliteDatabaseProperties',)\n",
      "('deleted_messages',)\n",
      "('sqlite_sequence',)\n",
      "('chat_handle_join',)\n",
      "('sync_deleted_messages',)\n",
      "('message_processing_task',)\n",
      "('handle',)\n",
      "('sync_deleted_chats',)\n",
      "('message_attachment_join',)\n",
      "('sync_deleted_attachments',)\n",
      "('kvtable',)\n",
      "('chat_message_join',)\n",
      "('message',)\n",
      "('chat',)\n",
      "('attachment',)\n",
      "('sqlite_stat1',)\n"
     ]
    }
   ],
   "source": [
    "import sqlite3\n",
    "import pandas as pd\n",
    "# substitute username with your username\n",
    "conn = sqlite3.connect('/Users/jakeanderson/Library/Messages/chat.db')\n",
    "# connect to the database\n",
    "cur = conn.cursor()\n",
    "# get the names of the tables in the database\n",
    "cur.execute(\" select name from sqlite_master where type = 'table' \") \n",
    "for name in cur.fetchall(): print(name)"
   ]
  },
  {
   "cell_type": "code",
   "execution_count": 17,
   "metadata": {},
   "outputs": [],
   "source": [
    "messages = pd.read_sql_query(\"select *, datetime(message.date + strftime('%s', '2001-01-01') ,'unixepoch','localtime') as date_uct from message\", conn)"
   ]
  },
  {
   "cell_type": "code",
   "execution_count": 18,
   "metadata": {},
   "outputs": [
    {
     "data": {
      "text/plain": [
       "Index(['ROWID', 'guid', 'text', 'replace', 'service_center', 'handle_id',\n",
       "       'subject', 'country', 'attributedBody', 'version', 'type', 'service',\n",
       "       'account', 'account_guid', 'error', 'date', 'date_read',\n",
       "       'date_delivered', 'is_delivered', 'is_finished', 'is_emote',\n",
       "       'is_from_me', 'is_empty', 'is_delayed', 'is_auto_reply', 'is_prepared',\n",
       "       'is_read', 'is_system_message', 'is_sent', 'has_dd_results',\n",
       "       'is_service_message', 'is_forward', 'was_downgraded', 'is_archive',\n",
       "       'cache_has_attachments', 'cache_roomnames', 'was_data_detected',\n",
       "       'was_deduplicated', 'is_audio_message', 'is_played', 'date_played',\n",
       "       'item_type', 'other_handle', 'group_title', 'group_action_type',\n",
       "       'share_status', 'share_direction', 'is_expirable', 'expire_state',\n",
       "       'message_action_type', 'message_source', 'associated_message_guid',\n",
       "       'associated_message_type', 'balloon_bundle_id', 'payload_data',\n",
       "       'expressive_send_style_id', 'associated_message_range_location',\n",
       "       'associated_message_range_length', 'time_expressive_send_played',\n",
       "       'message_summary_info', 'ck_sync_state', 'ck_record_id',\n",
       "       'ck_record_change_tag', 'destination_caller_id', 'sr_ck_sync_state',\n",
       "       'sr_ck_record_id', 'sr_ck_record_change_tag', 'is_corrupt',\n",
       "       'reply_to_guid', 'sort_id', 'is_spam', 'date_uct'],\n",
       "      dtype='object')"
      ]
     },
     "execution_count": 18,
     "metadata": {},
     "output_type": "execute_result"
    }
   ],
   "source": [
    "messages.columns"
   ]
  },
  {
   "cell_type": "code",
   "execution_count": 26,
   "metadata": {},
   "outputs": [
    {
     "data": {
      "text/html": [
       "<div>\n",
       "<style scoped>\n",
       "    .dataframe tbody tr th:only-of-type {\n",
       "        vertical-align: middle;\n",
       "    }\n",
       "\n",
       "    .dataframe tbody tr th {\n",
       "        vertical-align: top;\n",
       "    }\n",
       "\n",
       "    .dataframe thead th {\n",
       "        text-align: right;\n",
       "    }\n",
       "</style>\n",
       "<table border=\"1\" class=\"dataframe\">\n",
       "  <thead>\n",
       "    <tr style=\"text-align: right;\">\n",
       "      <th></th>\n",
       "      <th>handle_id</th>\n",
       "      <th>text</th>\n",
       "      <th>is_from_me</th>\n",
       "      <th>date</th>\n",
       "    </tr>\n",
       "  </thead>\n",
       "  <tbody>\n",
       "    <tr>\n",
       "      <th>1690</th>\n",
       "      <td>3</td>\n",
       "      <td>hahahaha</td>\n",
       "      <td>0</td>\n",
       "      <td>588187141665146880</td>\n",
       "    </tr>\n",
       "    <tr>\n",
       "      <th>25724</th>\n",
       "      <td>3</td>\n",
       "      <td>hahahaha</td>\n",
       "      <td>0</td>\n",
       "      <td>591554631457758208</td>\n",
       "    </tr>\n",
       "    <tr>\n",
       "      <th>25732</th>\n",
       "      <td>3</td>\n",
       "      <td>hahahaha</td>\n",
       "      <td>0</td>\n",
       "      <td>591554689906645120</td>\n",
       "    </tr>\n",
       "    <tr>\n",
       "      <th>28156</th>\n",
       "      <td>202</td>\n",
       "      <td>hahahaha</td>\n",
       "      <td>0</td>\n",
       "      <td>593386949062943488</td>\n",
       "    </tr>\n",
       "    <tr>\n",
       "      <th>30671</th>\n",
       "      <td>202</td>\n",
       "      <td>hahahaha</td>\n",
       "      <td>0</td>\n",
       "      <td>593736780683694336</td>\n",
       "    </tr>\n",
       "    <tr>\n",
       "      <th>33710</th>\n",
       "      <td>24</td>\n",
       "      <td>hahahaha</td>\n",
       "      <td>0</td>\n",
       "      <td>596619060843320832</td>\n",
       "    </tr>\n",
       "    <tr>\n",
       "      <th>34296</th>\n",
       "      <td>2</td>\n",
       "      <td>hahahaha</td>\n",
       "      <td>0</td>\n",
       "      <td>597394550410184832</td>\n",
       "    </tr>\n",
       "    <tr>\n",
       "      <th>34919</th>\n",
       "      <td>202</td>\n",
       "      <td>hahahaha</td>\n",
       "      <td>0</td>\n",
       "      <td>597784723551899392</td>\n",
       "    </tr>\n",
       "    <tr>\n",
       "      <th>42178</th>\n",
       "      <td>3</td>\n",
       "      <td>hahahaha</td>\n",
       "      <td>0</td>\n",
       "      <td>603921759022166528</td>\n",
       "    </tr>\n",
       "    <tr>\n",
       "      <th>61009</th>\n",
       "      <td>24</td>\n",
       "      <td>hahahaha</td>\n",
       "      <td>0</td>\n",
       "      <td>616660242502237568</td>\n",
       "    </tr>\n",
       "    <tr>\n",
       "      <th>64847</th>\n",
       "      <td>1326</td>\n",
       "      <td>hahahaha</td>\n",
       "      <td>1</td>\n",
       "      <td>620096501859999872</td>\n",
       "    </tr>\n",
       "  </tbody>\n",
       "</table>\n",
       "</div>"
      ],
      "text/plain": [
       "       handle_id      text  is_from_me                date\n",
       "1690           3  hahahaha           0  588187141665146880\n",
       "25724          3  hahahaha           0  591554631457758208\n",
       "25732          3  hahahaha           0  591554689906645120\n",
       "28156        202  hahahaha           0  593386949062943488\n",
       "30671        202  hahahaha           0  593736780683694336\n",
       "33710         24  hahahaha           0  596619060843320832\n",
       "34296          2  hahahaha           0  597394550410184832\n",
       "34919        202  hahahaha           0  597784723551899392\n",
       "42178          3  hahahaha           0  603921759022166528\n",
       "61009         24  hahahaha           0  616660242502237568\n",
       "64847       1326  hahahaha           1  620096501859999872"
      ]
     },
     "execution_count": 26,
     "metadata": {},
     "output_type": "execute_result"
    }
   ],
   "source": [
    "messages[['handle_id','text','is_from_me','date']].loc[messages['text'] == \"hahahaha\",:]"
   ]
  },
  {
   "cell_type": "code",
   "execution_count": 35,
   "metadata": {},
   "outputs": [],
   "source": [
    "mrdf = messages[['handle_id','text','is_from_me','date']].loc[messages['handle_id'] == 1326,:]"
   ]
  },
  {
   "cell_type": "code",
   "execution_count": 38,
   "metadata": {},
   "outputs": [
    {
     "data": {
      "text/plain": [
       "0.4176418958455237"
      ]
     },
     "execution_count": 38,
     "metadata": {},
     "output_type": "execute_result"
    }
   ],
   "source": [
    "mrdf.is_from_me.sum()/mrdf.shape[0]"
   ]
  },
  {
   "cell_type": "code",
   "execution_count": null,
   "metadata": {},
   "outputs": [],
   "source": []
  }
 ],
 "metadata": {
  "kernelspec": {
   "display_name": "Python 3",
   "language": "python",
   "name": "python3"
  },
  "language_info": {
   "codemirror_mode": {
    "name": "ipython",
    "version": 3
   },
   "file_extension": ".py",
   "mimetype": "text/x-python",
   "name": "python",
   "nbconvert_exporter": "python",
   "pygments_lexer": "ipython3",
   "version": "3.8.3"
  }
 },
 "nbformat": 4,
 "nbformat_minor": 4
}
